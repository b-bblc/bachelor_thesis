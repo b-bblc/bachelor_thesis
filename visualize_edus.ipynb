{
 "cells": [
  {
   "cell_type": "markdown",
   "id": "ad0206e1",
   "metadata": {},
   "source": [
    "# Visualizing Dependency Trees for EDUs\n",
    "\n",
    "This notebook demonstrates how to visualize dependency trees for Elementary Discourse Units (EDUs) based on the project structure and parsed results. It uses the spaCy and conllu libraries to load, process, and visualize the dependency parses of EDUs. The visualizations can be saved as SVG files for inclusion in your thesis.\n",
    "\n",
    "---"
   ]
  },
  {
   "cell_type": "markdown",
   "id": "af2bb095",
   "metadata": {},
   "source": [
    "## 1. Setup: Install Required Libraries\n"
   ]
  },
  {
   "cell_type": "code",
   "execution_count": 1,
   "id": "64058113",
   "metadata": {},
   "outputs": [
    {
     "name": "stdout",
     "output_type": "stream",
     "text": [
      "Defaulting to user installation because normal site-packages is not writeable\n",
      "Requirement already satisfied: spacy in /Users/arturbegichev/Library/Python/3.9/lib/python/site-packages (3.8.7)\n",
      "Collecting conllu\n",
      "  Downloading conllu-6.0.0-py3-none-any.whl.metadata (21 kB)\n",
      "Requirement already satisfied: spacy-legacy<3.1.0,>=3.0.11 in /Users/arturbegichev/Library/Python/3.9/lib/python/site-packages (from spacy) (3.0.12)\n",
      "Requirement already satisfied: spacy-loggers<2.0.0,>=1.0.0 in /Users/arturbegichev/Library/Python/3.9/lib/python/site-packages (from spacy) (1.0.5)\n",
      "Requirement already satisfied: murmurhash<1.1.0,>=0.28.0 in /Users/arturbegichev/Library/Python/3.9/lib/python/site-packages (from spacy) (1.0.13)\n",
      "Requirement already satisfied: cymem<2.1.0,>=2.0.2 in /Users/arturbegichev/Library/Python/3.9/lib/python/site-packages (from spacy) (2.0.11)\n",
      "Requirement already satisfied: preshed<3.1.0,>=3.0.2 in /Users/arturbegichev/Library/Python/3.9/lib/python/site-packages (from spacy) (3.0.10)\n",
      "Requirement already satisfied: thinc<8.4.0,>=8.3.4 in /Users/arturbegichev/Library/Python/3.9/lib/python/site-packages (from spacy) (8.3.6)\n",
      "Requirement already satisfied: wasabi<1.2.0,>=0.9.1 in /Users/arturbegichev/Library/Python/3.9/lib/python/site-packages (from spacy) (1.1.3)\n",
      "Requirement already satisfied: srsly<3.0.0,>=2.4.3 in /Users/arturbegichev/Library/Python/3.9/lib/python/site-packages (from spacy) (2.5.1)\n",
      "Requirement already satisfied: catalogue<2.1.0,>=2.0.6 in /Users/arturbegichev/Library/Python/3.9/lib/python/site-packages (from spacy) (2.0.10)\n",
      "Requirement already satisfied: weasel<0.5.0,>=0.1.0 in /Users/arturbegichev/Library/Python/3.9/lib/python/site-packages (from spacy) (0.4.1)\n",
      "Requirement already satisfied: typer<1.0.0,>=0.3.0 in /Users/arturbegichev/Library/Python/3.9/lib/python/site-packages (from spacy) (0.16.0)\n",
      "Requirement already satisfied: tqdm<5.0.0,>=4.38.0 in /Users/arturbegichev/Library/Python/3.9/lib/python/site-packages (from spacy) (4.67.1)\n",
      "Requirement already satisfied: numpy>=1.19.0 in /Users/arturbegichev/Library/Python/3.9/lib/python/site-packages (from spacy) (2.0.2)\n",
      "Requirement already satisfied: requests<3.0.0,>=2.13.0 in /Users/arturbegichev/Library/Python/3.9/lib/python/site-packages (from spacy) (2.32.3)\n",
      "Requirement already satisfied: pydantic!=1.8,!=1.8.1,<3.0.0,>=1.7.4 in /Users/arturbegichev/Library/Python/3.9/lib/python/site-packages (from spacy) (2.11.5)\n",
      "Requirement already satisfied: jinja2 in /Users/arturbegichev/Library/Python/3.9/lib/python/site-packages (from spacy) (3.1.6)\n",
      "Requirement already satisfied: setuptools in /Library/Developer/CommandLineTools/Library/Frameworks/Python3.framework/Versions/3.9/lib/python3.9/site-packages (from spacy) (58.0.4)\n",
      "Requirement already satisfied: packaging>=20.0 in /Users/arturbegichev/Library/Python/3.9/lib/python/site-packages (from spacy) (25.0)\n",
      "Requirement already satisfied: langcodes<4.0.0,>=3.2.0 in /Users/arturbegichev/Library/Python/3.9/lib/python/site-packages (from spacy) (3.5.0)\n",
      "Requirement already satisfied: language-data>=1.2 in /Users/arturbegichev/Library/Python/3.9/lib/python/site-packages (from langcodes<4.0.0,>=3.2.0->spacy) (1.3.0)\n",
      "Requirement already satisfied: annotated-types>=0.6.0 in /Users/arturbegichev/Library/Python/3.9/lib/python/site-packages (from pydantic!=1.8,!=1.8.1,<3.0.0,>=1.7.4->spacy) (0.7.0)\n",
      "Requirement already satisfied: pydantic-core==2.33.2 in /Users/arturbegichev/Library/Python/3.9/lib/python/site-packages (from pydantic!=1.8,!=1.8.1,<3.0.0,>=1.7.4->spacy) (2.33.2)\n",
      "Requirement already satisfied: typing-extensions>=4.12.2 in /Users/arturbegichev/Library/Python/3.9/lib/python/site-packages (from pydantic!=1.8,!=1.8.1,<3.0.0,>=1.7.4->spacy) (4.13.2)\n",
      "Requirement already satisfied: typing-inspection>=0.4.0 in /Users/arturbegichev/Library/Python/3.9/lib/python/site-packages (from pydantic!=1.8,!=1.8.1,<3.0.0,>=1.7.4->spacy) (0.4.1)\n",
      "Requirement already satisfied: charset-normalizer<4,>=2 in /Users/arturbegichev/Library/Python/3.9/lib/python/site-packages (from requests<3.0.0,>=2.13.0->spacy) (3.4.2)\n",
      "Requirement already satisfied: idna<4,>=2.5 in /Users/arturbegichev/Library/Python/3.9/lib/python/site-packages (from requests<3.0.0,>=2.13.0->spacy) (3.10)\n",
      "Requirement already satisfied: urllib3<3,>=1.21.1 in /Users/arturbegichev/Library/Python/3.9/lib/python/site-packages (from requests<3.0.0,>=2.13.0->spacy) (2.4.0)\n",
      "Requirement already satisfied: certifi>=2017.4.17 in /Users/arturbegichev/Library/Python/3.9/lib/python/site-packages (from requests<3.0.0,>=2.13.0->spacy) (2025.4.26)\n",
      "Requirement already satisfied: blis<1.4.0,>=1.3.0 in /Users/arturbegichev/Library/Python/3.9/lib/python/site-packages (from thinc<8.4.0,>=8.3.4->spacy) (1.3.0)\n",
      "Requirement already satisfied: confection<1.0.0,>=0.0.1 in /Users/arturbegichev/Library/Python/3.9/lib/python/site-packages (from thinc<8.4.0,>=8.3.4->spacy) (0.1.5)\n",
      "Requirement already satisfied: click>=8.0.0 in /Users/arturbegichev/Library/Python/3.9/lib/python/site-packages (from typer<1.0.0,>=0.3.0->spacy) (8.1.8)\n",
      "Requirement already satisfied: shellingham>=1.3.0 in /Users/arturbegichev/Library/Python/3.9/lib/python/site-packages (from typer<1.0.0,>=0.3.0->spacy) (1.5.4)\n",
      "Requirement already satisfied: rich>=10.11.0 in /Users/arturbegichev/Library/Python/3.9/lib/python/site-packages (from typer<1.0.0,>=0.3.0->spacy) (14.0.0)\n",
      "Requirement already satisfied: cloudpathlib<1.0.0,>=0.7.0 in /Users/arturbegichev/Library/Python/3.9/lib/python/site-packages (from weasel<0.5.0,>=0.1.0->spacy) (0.21.1)\n",
      "Requirement already satisfied: smart-open<8.0.0,>=5.2.1 in /Users/arturbegichev/Library/Python/3.9/lib/python/site-packages (from weasel<0.5.0,>=0.1.0->spacy) (7.1.0)\n",
      "Requirement already satisfied: wrapt in /Users/arturbegichev/Library/Python/3.9/lib/python/site-packages (from smart-open<8.0.0,>=5.2.1->weasel<0.5.0,>=0.1.0->spacy) (1.17.2)\n",
      "Requirement already satisfied: marisa-trie>=1.1.0 in /Users/arturbegichev/Library/Python/3.9/lib/python/site-packages (from language-data>=1.2->langcodes<4.0.0,>=3.2.0->spacy) (1.2.1)\n",
      "Requirement already satisfied: markdown-it-py>=2.2.0 in /Users/arturbegichev/Library/Python/3.9/lib/python/site-packages (from rich>=10.11.0->typer<1.0.0,>=0.3.0->spacy) (3.0.0)\n",
      "Requirement already satisfied: pygments<3.0.0,>=2.13.0 in /Users/arturbegichev/Library/Python/3.9/lib/python/site-packages (from rich>=10.11.0->typer<1.0.0,>=0.3.0->spacy) (2.19.1)\n",
      "Requirement already satisfied: mdurl~=0.1 in /Users/arturbegichev/Library/Python/3.9/lib/python/site-packages (from markdown-it-py>=2.2.0->rich>=10.11.0->typer<1.0.0,>=0.3.0->spacy) (0.1.2)\n",
      "Requirement already satisfied: MarkupSafe>=2.0 in /Users/arturbegichev/Library/Python/3.9/lib/python/site-packages (from jinja2->spacy) (3.0.2)\n",
      "Downloading conllu-6.0.0-py3-none-any.whl (16 kB)\n",
      "Installing collected packages: conllu\n",
      "Successfully installed conllu-6.0.0\n",
      "/Users/arturbegichev/miniconda3/bin/python: No module named spacy\n",
      "/Users/arturbegichev/miniconda3/bin/python: No module named spacy\n"
     ]
    }
   ],
   "source": [
    "!pip install spacy conllu\n",
    "!python -m spacy download de_core_news_sm\n",
    "!python -m spacy download ru_core_news_sm"
   ]
  },
  {
   "cell_type": "markdown",
   "id": "96680491",
   "metadata": {},
   "source": [
    "---\n",
    "\n",
    "## 2. Import Libraries"
   ]
  },
  {
   "cell_type": "code",
   "execution_count": 2,
   "id": "c333323d",
   "metadata": {},
   "outputs": [
    {
     "name": "stderr",
     "output_type": "stream",
     "text": [
      "/Users/arturbegichev/Library/Python/3.9/lib/python/site-packages/urllib3/__init__.py:35: NotOpenSSLWarning: urllib3 v2 only supports OpenSSL 1.1.1+, currently the 'ssl' module is compiled with 'LibreSSL 2.8.3'. See: https://github.com/urllib3/urllib3/issues/3020\n",
      "  warnings.warn(\n"
     ]
    }
   ],
   "source": [
    "from pathlib import Path\n",
    "from conllu import parse\n",
    "import spacy\n",
    "from spacy import displacy"
   ]
  },
  {
   "cell_type": "markdown",
   "id": "959cea21",
   "metadata": {},
   "source": [
    "---\n",
    "\n",
    "## 3. Load spaCy Models\n",
    "\n",
    "Load the German and Russian language models."
   ]
  },
  {
   "cell_type": "code",
   "execution_count": 3,
   "id": "e673fae5",
   "metadata": {},
   "outputs": [
    {
     "ename": "OSError",
     "evalue": "[E050] Can't find model 'de_core_news_sm'. It doesn't seem to be a Python package or a valid path to a data directory.",
     "output_type": "error",
     "traceback": [
      "\u001b[0;31m---------------------------------------------------------------------------\u001b[0m",
      "\u001b[0;31mOSError\u001b[0m                                   Traceback (most recent call last)",
      "Cell \u001b[0;32mIn[3], line 1\u001b[0m\n\u001b[0;32m----> 1\u001b[0m nlp_de \u001b[38;5;241m=\u001b[39m \u001b[43mspacy\u001b[49m\u001b[38;5;241;43m.\u001b[39;49m\u001b[43mload\u001b[49m\u001b[43m(\u001b[49m\u001b[38;5;124;43m\"\u001b[39;49m\u001b[38;5;124;43mde_core_news_sm\u001b[39;49m\u001b[38;5;124;43m\"\u001b[39;49m\u001b[43m)\u001b[49m  \u001b[38;5;66;03m# German model\u001b[39;00m\n\u001b[1;32m      2\u001b[0m nlp_ru \u001b[38;5;241m=\u001b[39m spacy\u001b[38;5;241m.\u001b[39mload(\u001b[38;5;124m\"\u001b[39m\u001b[38;5;124mru_core_news_sm\u001b[39m\u001b[38;5;124m\"\u001b[39m)  \u001b[38;5;66;03m# Russian model\u001b[39;00m\n",
      "File \u001b[0;32m~/Library/Python/3.9/lib/python/site-packages/spacy/__init__.py:52\u001b[0m, in \u001b[0;36mload\u001b[0;34m(name, vocab, disable, enable, exclude, config)\u001b[0m\n\u001b[1;32m     28\u001b[0m \u001b[38;5;28;01mdef\u001b[39;00m\u001b[38;5;250m \u001b[39m\u001b[38;5;21mload\u001b[39m(\n\u001b[1;32m     29\u001b[0m     name: Union[\u001b[38;5;28mstr\u001b[39m, Path],\n\u001b[1;32m     30\u001b[0m     \u001b[38;5;241m*\u001b[39m,\n\u001b[0;32m   (...)\u001b[0m\n\u001b[1;32m     35\u001b[0m     config: Union[Dict[\u001b[38;5;28mstr\u001b[39m, Any], Config] \u001b[38;5;241m=\u001b[39m util\u001b[38;5;241m.\u001b[39mSimpleFrozenDict(),\n\u001b[1;32m     36\u001b[0m ) \u001b[38;5;241m-\u001b[39m\u001b[38;5;241m>\u001b[39m Language:\n\u001b[1;32m     37\u001b[0m \u001b[38;5;250m    \u001b[39m\u001b[38;5;124;03m\"\"\"Load a spaCy model from an installed package or a local path.\u001b[39;00m\n\u001b[1;32m     38\u001b[0m \n\u001b[1;32m     39\u001b[0m \u001b[38;5;124;03m    name (str): Package name or model path.\u001b[39;00m\n\u001b[0;32m   (...)\u001b[0m\n\u001b[1;32m     50\u001b[0m \u001b[38;5;124;03m    RETURNS (Language): The loaded nlp object.\u001b[39;00m\n\u001b[1;32m     51\u001b[0m \u001b[38;5;124;03m    \"\"\"\u001b[39;00m\n\u001b[0;32m---> 52\u001b[0m     \u001b[38;5;28;01mreturn\u001b[39;00m \u001b[43mutil\u001b[49m\u001b[38;5;241;43m.\u001b[39;49m\u001b[43mload_model\u001b[49m\u001b[43m(\u001b[49m\n\u001b[1;32m     53\u001b[0m \u001b[43m        \u001b[49m\u001b[43mname\u001b[49m\u001b[43m,\u001b[49m\n\u001b[1;32m     54\u001b[0m \u001b[43m        \u001b[49m\u001b[43mvocab\u001b[49m\u001b[38;5;241;43m=\u001b[39;49m\u001b[43mvocab\u001b[49m\u001b[43m,\u001b[49m\n\u001b[1;32m     55\u001b[0m \u001b[43m        \u001b[49m\u001b[43mdisable\u001b[49m\u001b[38;5;241;43m=\u001b[39;49m\u001b[43mdisable\u001b[49m\u001b[43m,\u001b[49m\n\u001b[1;32m     56\u001b[0m \u001b[43m        \u001b[49m\u001b[43menable\u001b[49m\u001b[38;5;241;43m=\u001b[39;49m\u001b[43menable\u001b[49m\u001b[43m,\u001b[49m\n\u001b[1;32m     57\u001b[0m \u001b[43m        \u001b[49m\u001b[43mexclude\u001b[49m\u001b[38;5;241;43m=\u001b[39;49m\u001b[43mexclude\u001b[49m\u001b[43m,\u001b[49m\n\u001b[1;32m     58\u001b[0m \u001b[43m        \u001b[49m\u001b[43mconfig\u001b[49m\u001b[38;5;241;43m=\u001b[39;49m\u001b[43mconfig\u001b[49m\u001b[43m,\u001b[49m\n\u001b[1;32m     59\u001b[0m \u001b[43m    \u001b[49m\u001b[43m)\u001b[49m\n",
      "File \u001b[0;32m~/Library/Python/3.9/lib/python/site-packages/spacy/util.py:484\u001b[0m, in \u001b[0;36mload_model\u001b[0;34m(name, vocab, disable, enable, exclude, config)\u001b[0m\n\u001b[1;32m    482\u001b[0m \u001b[38;5;28;01mif\u001b[39;00m name \u001b[38;5;129;01min\u001b[39;00m OLD_MODEL_SHORTCUTS:\n\u001b[1;32m    483\u001b[0m     \u001b[38;5;28;01mraise\u001b[39;00m \u001b[38;5;167;01mIOError\u001b[39;00m(Errors\u001b[38;5;241m.\u001b[39mE941\u001b[38;5;241m.\u001b[39mformat(name\u001b[38;5;241m=\u001b[39mname, full\u001b[38;5;241m=\u001b[39mOLD_MODEL_SHORTCUTS[name]))  \u001b[38;5;66;03m# type: ignore[index]\u001b[39;00m\n\u001b[0;32m--> 484\u001b[0m \u001b[38;5;28;01mraise\u001b[39;00m \u001b[38;5;167;01mIOError\u001b[39;00m(Errors\u001b[38;5;241m.\u001b[39mE050\u001b[38;5;241m.\u001b[39mformat(name\u001b[38;5;241m=\u001b[39mname))\n",
      "\u001b[0;31mOSError\u001b[0m: [E050] Can't find model 'de_core_news_sm'. It doesn't seem to be a Python package or a valid path to a data directory."
     ]
    }
   ],
   "source": [
    "nlp_de = spacy.load(\"de_core_news_sm\")  # German model\n",
    "nlp_ru = spacy.load(\"ru_core_news_sm\")  # Russian model"
   ]
  },
  {
   "cell_type": "markdown",
   "id": "5fdeb5c3",
   "metadata": {},
   "source": [
    "---\n",
    "\n",
    "## 4. Define Utility Functions\n",
    "\n",
    "These functions help to read CoNLL-U files and visualize or save dependency trees."
   ]
  },
  {
   "cell_type": "code",
   "execution_count": null,
   "id": "3ef4beba",
   "metadata": {},
   "outputs": [],
   "source": [
    "def load_edus_from_conllu(conllu_path):\n",
    "    \"\"\"\n",
    "    Load all EDUs (as TokenList objects) from a CoNLL-U file.\n",
    "    \"\"\"\n",
    "    data = Path(conllu_path).read_text(encoding=\"utf-8\")\n",
    "    return parse(data)\n",
    "\n",
    "def visualize_edu(edu_text, nlp_model, jupyter=True):\n",
    "    \"\"\"\n",
    "    Visualize the dependency tree of an EDU using a spaCy model and displaCy.\n",
    "    Set jupyter=False to return SVG string.\n",
    "    \"\"\"\n",
    "    doc = nlp_model(edu_text)\n",
    "    if jupyter:\n",
    "        displacy.render(doc, style=\"dep\", jupyter=True)\n",
    "    else:\n",
    "        svg = displacy.render(doc, style=\"dep\", jupyter=False)\n",
    "        return svg\n",
    "\n",
    "def save_edu_tree_svg(edu_text, nlp_model, output_path):\n",
    "    \"\"\"\n",
    "    Generate and save the dependency tree visualization of an EDU as an SVG file.\n",
    "    \"\"\"\n",
    "    svg = visualize_edu(edu_text, nlp_model, jupyter=False)\n",
    "    Path(output_path).write_text(svg, encoding=\"utf-8\")\n",
    "    print(f\"SVG saved: {output_path}\")"
   ]
  },
  {
   "cell_type": "markdown",
   "id": "2f01db1f",
   "metadata": {},
   "source": [
    "---\n",
    "\n",
    "## 5. Example: Visualize and Save Dependency Trees for Selected EDUs\n",
    "\n",
    "Modify the `edu_files` list and select which EDU to visualize from each file."
   ]
  },
  {
   "cell_type": "code",
   "execution_count": null,
   "id": "a12a0093",
   "metadata": {},
   "outputs": [],
   "source": [
    "# List your CoNLL-U files here (relative or absolute paths)\n",
    "edu_files = [\n",
    "    \"parsed_results/maz-00001_parsed.conllu\",\n",
    "    \"parsed_results/maz-00002_parsed.conllu\",\n",
    "    # Add more file paths as needed\n",
    "]\n",
    "\n",
    "# Loop through files and visualize/save the first EDU from each\n",
    "for conllu_path in edu_files:\n",
    "    edus = load_edus_from_conllu(conllu_path)\n",
    "    if not edus:\n",
    "        print(f\"No EDUs found in {conllu_path}\")\n",
    "        continue\n",
    "    edu = edus[0]  # You can choose a different index if needed\n",
    "    edu_text = edu.metadata.get(\"text\", \"\")\n",
    "    if not edu_text:\n",
    "        print(f\"No text found for EDU in {conllu_path}\")\n",
    "        continue\n",
    "    # Determine language based on filename (adjust if you use a different pattern)\n",
    "    if \"maz\" in conllu_path or \"de\" in conllu_path:\n",
    "        nlp_model = nlp_de\n",
    "    elif \"ru\" in conllu_path:\n",
    "        nlp_model = nlp_ru\n",
    "    else:\n",
    "        nlp_model = nlp_de  # Default to German if unsure\n",
    "    print(f\"Visualizing EDU from {conllu_path}:\")\n",
    "    visualize_edu(edu_text, nlp_model, jupyter=True)\n",
    "    # Save the SVG file\n",
    "    svg_path = Path(conllu_path).stem + \"_dep.svg\"\n",
    "    save_edu_tree_svg(edu_text, nlp_model, svg_path)"
   ]
  }
 ],
 "metadata": {
  "kernelspec": {
   "display_name": "Python 3",
   "language": "python",
   "name": "python3"
  },
  "language_info": {
   "codemirror_mode": {
    "name": "ipython",
    "version": 3
   },
   "file_extension": ".py",
   "mimetype": "text/x-python",
   "name": "python",
   "nbconvert_exporter": "python",
   "pygments_lexer": "ipython3",
   "version": "3.9.6"
  }
 },
 "nbformat": 4,
 "nbformat_minor": 5
}
